{
  "nbformat": 4,
  "nbformat_minor": 0,
  "metadata": {
    "kernelspec": {
      "display_name": "Python 3",
      "language": "python",
      "name": "python3"
    },
    "language_info": {
      "codemirror_mode": {
        "name": "ipython",
        "version": 3
      },
      "file_extension": ".py",
      "mimetype": "text/x-python",
      "name": "python",
      "nbconvert_exporter": "python",
      "pygments_lexer": "ipython3",
      "version": "3.7.4"
    },
    "colab": {
      "name": "Copy of hyper_parameter_tuning_nia_vs_grid_search.ipynb",
      "provenance": [],
      "collapsed_sections": []
    }
  },
  "cells": [
    {
      "cell_type": "code",
      "metadata": {
        "id": "0YPcgqJMi8hq",
        "colab_type": "code",
        "colab": {
          "base_uri": "https://localhost:8080/",
          "height": 445
        },
        "outputId": "57345e3b-3c92-4619-b353-e9bf66b3718c"
      },
      "source": [
        "! pip install np\n",
        "! pip install sklearn\n",
        "! pip install sklearn_nature_inspired_algorithms==0.4.3"
      ],
      "execution_count": 1,
      "outputs": [
        {
          "output_type": "stream",
          "text": [
            "Requirement already satisfied: np in /usr/local/lib/python3.6/dist-packages (1.0.2)\n",
            "Requirement already satisfied: sklearn in /usr/local/lib/python3.6/dist-packages (0.0)\n",
            "Requirement already satisfied: scikit-learn in /usr/local/lib/python3.6/dist-packages (from sklearn) (0.22.2.post1)\n",
            "Requirement already satisfied: numpy>=1.11.0 in /usr/local/lib/python3.6/dist-packages (from scikit-learn->sklearn) (1.18.5)\n",
            "Requirement already satisfied: scipy>=0.17.0 in /usr/local/lib/python3.6/dist-packages (from scikit-learn->sklearn) (1.4.1)\n",
            "Requirement already satisfied: joblib>=0.11 in /usr/local/lib/python3.6/dist-packages (from scikit-learn->sklearn) (0.15.1)\n",
            "Requirement already satisfied: sklearn_nature_inspired_algorithms==0.4.3 in /usr/local/lib/python3.6/dist-packages (0.4.3)\n",
            "Requirement already satisfied: seaborn<0.11.0,>=0.10.1 in /usr/local/lib/python3.6/dist-packages (from sklearn_nature_inspired_algorithms==0.4.3) (0.10.1)\n",
            "Requirement already satisfied: matplotlib<4.0.0,>=3.2.1 in /usr/local/lib/python3.6/dist-packages (from sklearn_nature_inspired_algorithms==0.4.3) (3.2.1)\n",
            "Requirement already satisfied: numpy<2.0.0,>=1.18.4 in /usr/local/lib/python3.6/dist-packages (from sklearn_nature_inspired_algorithms==0.4.3) (1.18.5)\n",
            "Requirement already satisfied: toml<0.10,>=0.9 in /usr/local/lib/python3.6/dist-packages (from sklearn_nature_inspired_algorithms==0.4.3) (0.9.6)\n",
            "Requirement already satisfied: pandas<2.0.0,>=1.0.3 in /usr/local/lib/python3.6/dist-packages (from sklearn_nature_inspired_algorithms==0.4.3) (1.0.4)\n",
            "Requirement already satisfied: scikit-learn<0.23.0,>=0.22.2 in /usr/local/lib/python3.6/dist-packages (from sklearn_nature_inspired_algorithms==0.4.3) (0.22.2.post1)\n",
            "Requirement already satisfied: NiaPy==2.0.0rc10 in /usr/local/lib/python3.6/dist-packages (from sklearn_nature_inspired_algorithms==0.4.3) (2.0.0rc10)\n",
            "Requirement already satisfied: scipy>=1.0.1 in /usr/local/lib/python3.6/dist-packages (from seaborn<0.11.0,>=0.10.1->sklearn_nature_inspired_algorithms==0.4.3) (1.4.1)\n",
            "Requirement already satisfied: cycler>=0.10 in /usr/local/lib/python3.6/dist-packages (from matplotlib<4.0.0,>=3.2.1->sklearn_nature_inspired_algorithms==0.4.3) (0.10.0)\n",
            "Requirement already satisfied: kiwisolver>=1.0.1 in /usr/local/lib/python3.6/dist-packages (from matplotlib<4.0.0,>=3.2.1->sklearn_nature_inspired_algorithms==0.4.3) (1.2.0)\n",
            "Requirement already satisfied: pyparsing!=2.0.4,!=2.1.2,!=2.1.6,>=2.0.1 in /usr/local/lib/python3.6/dist-packages (from matplotlib<4.0.0,>=3.2.1->sklearn_nature_inspired_algorithms==0.4.3) (2.4.7)\n",
            "Requirement already satisfied: python-dateutil>=2.1 in /usr/local/lib/python3.6/dist-packages (from matplotlib<4.0.0,>=3.2.1->sklearn_nature_inspired_algorithms==0.4.3) (2.8.1)\n",
            "Requirement already satisfied: pytz>=2017.2 in /usr/local/lib/python3.6/dist-packages (from pandas<2.0.0,>=1.0.3->sklearn_nature_inspired_algorithms==0.4.3) (2018.9)\n",
            "Requirement already satisfied: joblib>=0.11 in /usr/local/lib/python3.6/dist-packages (from scikit-learn<0.23.0,>=0.22.2->sklearn_nature_inspired_algorithms==0.4.3) (0.15.1)\n",
            "Requirement already satisfied: xlsxwriter>=1.1.5 in /usr/local/lib/python3.6/dist-packages (from NiaPy==2.0.0rc10->sklearn_nature_inspired_algorithms==0.4.3) (1.2.9)\n",
            "Requirement already satisfied: enum34>=1.1.6 in /usr/local/lib/python3.6/dist-packages (from NiaPy==2.0.0rc10->sklearn_nature_inspired_algorithms==0.4.3) (1.1.10)\n",
            "Requirement already satisfied: six in /usr/local/lib/python3.6/dist-packages (from cycler>=0.10->matplotlib<4.0.0,>=3.2.1->sklearn_nature_inspired_algorithms==0.4.3) (1.12.0)\n"
          ],
          "name": "stdout"
        }
      ]
    },
    {
      "cell_type": "code",
      "metadata": {
        "id": "T-Lp_tBcYjT1",
        "colab_type": "code",
        "colab": {}
      },
      "source": [
        "from sklearn.metrics import classification_report"
      ],
      "execution_count": 2,
      "outputs": []
    },
    {
      "cell_type": "markdown",
      "metadata": {
        "id": "113BlJ4Gi8h7",
        "colab_type": "text"
      },
      "source": [
        "# Hyper-Parameter Tunning Using Nature Inspired Algorithms "
      ]
    },
    {
      "cell_type": "markdown",
      "metadata": {
        "id": "JGLEd9SLknJw",
        "colab_type": "text"
      },
      "source": [
        "In this notebook we will compare the performance of nature inspired search with grid search."
      ]
    },
    {
      "cell_type": "markdown",
      "metadata": {
        "id": "fhAEHysRi8h8",
        "colab_type": "text"
      },
      "source": [
        "We will use [CoverType](https://archive.ics.uci.edu/ml/datasets/covertype) dataset which can be used for classification tasks.\n",
        "\n",
        "We will hyper-tune parameters of the RandomForestClassifier."
      ]
    },
    {
      "cell_type": "markdown",
      "metadata": {
        "id": "I1pZrXm8kzzV",
        "colab_type": "text"
      },
      "source": [
        "## Dataset\n",
        "\n",
        "Firstly, we will load the dataset, since it is really big (and we will make many experiments) we will train only on 1% of its size."
      ]
    },
    {
      "cell_type": "code",
      "metadata": {
        "id": "jz2ZwNNpi8h8",
        "colab_type": "code",
        "colab": {
          "base_uri": "https://localhost:8080/",
          "height": 68
        },
        "outputId": "d96dcebd-bdc6-48fd-bc8b-720f6bf8dea7"
      },
      "source": [
        "import random\n",
        "\n",
        "from sklearn.model_selection import train_test_split\n",
        "from sklearn.datasets import fetch_covtype\n",
        "\n",
        "X, y = fetch_covtype(download_if_missing=True, return_X_y=True)\n",
        "\n",
        "# shrink the dataset to the 1% of its original size\n",
        "rows_id = random.sample(range(0, len(X) - 1), (int)(len(X) * 0.01))\n",
        "\n",
        "X = X[rows_id, :]\n",
        "y = y[rows_id]\n",
        "\n",
        "X_train, X_test, y_train, y_test = train_test_split(X, y, test_size=0.2, random_state=42)\n",
        "\n",
        "print(f'train size - {len(X_train)}\\ntest size - {len(X_test)}')"
      ],
      "execution_count": 3,
      "outputs": [
        {
          "output_type": "stream",
          "text": [
            "Downloading https://ndownloader.figshare.com/files/5976039\n"
          ],
          "name": "stderr"
        },
        {
          "output_type": "stream",
          "text": [
            "train size - 4648\n",
            "test size - 1162\n"
          ],
          "name": "stdout"
        }
      ]
    },
    {
      "cell_type": "markdown",
      "metadata": {
        "id": "HBpCq-axk5Vo",
        "colab_type": "text"
      },
      "source": [
        "## Hyper-parameters\n",
        "\n",
        "Now, we will pick the parameters which we will be optimizing. "
      ]
    },
    {
      "cell_type": "code",
      "metadata": {
        "id": "ZiRiufWWi8iA",
        "colab_type": "code",
        "colab": {}
      },
      "source": [
        "param_grid = { \n",
        "    'n_estimators': range(100, 300, 20), \n",
        "    'max_depth': [2, 4, 6, 8, 10, 20, 30, 40, 50, 100, 200, 300, 400], \n",
        "    'min_samples_split': range(2, 10, 2),\n",
        "    'max_features': [\"auto\", \"sqrt\", \"log2\"]\n",
        "}"
      ],
      "execution_count": 4,
      "outputs": []
    },
    {
      "cell_type": "code",
      "metadata": {
        "id": "vLQv9Vm5mrZM",
        "colab_type": "code",
        "colab": {
          "base_uri": "https://localhost:8080/",
          "height": 34
        },
        "outputId": "cb341c44-c58a-4ba2-89a2-5d5477585e5a"
      },
      "source": [
        "import numpy as np\n",
        "\n",
        "print(f'This is {np.multiply.reduce([len(param) for param in param_grid.values()])} combinations in total.')"
      ],
      "execution_count": 5,
      "outputs": [
        {
          "output_type": "stream",
          "text": [
            "This is 1560 combinations in total.\n"
          ],
          "name": "stdout"
        }
      ]
    },
    {
      "cell_type": "markdown",
      "metadata": {
        "id": "QmHBiLHhnTCi",
        "colab_type": "text"
      },
      "source": [
        "## Optimization"
      ]
    },
    {
      "cell_type": "markdown",
      "metadata": {
        "id": "XYBPWpSNi8iD",
        "colab_type": "text"
      },
      "source": [
        "### GridSearch"
      ]
    },
    {
      "cell_type": "code",
      "metadata": {
        "id": "mymLiE7ni8iF",
        "colab_type": "code",
        "colab": {}
      },
      "source": [
        "from sklearn.model_selection import GridSearchCV\n",
        "from sklearn.calibration import CalibratedClassifierCV\n",
        "from sklearn.ensemble import RandomForestClassifier"
      ],
      "execution_count": 6,
      "outputs": []
    },
    {
      "cell_type": "code",
      "metadata": {
        "id": "qaHJPe1Hi8iH",
        "colab_type": "code",
        "colab": {
          "base_uri": "https://localhost:8080/",
          "height": 102
        },
        "outputId": "5bc6ebf3-9602-4fb9-e239-71c31c128ba2"
      },
      "source": [
        "%%time\n",
        "\n",
        "clf = RandomForestClassifier(random_state=42)\n",
        "\n",
        "grid_search = GridSearchCV(clf, param_grid, cv=5, verbose=1, scoring='f1_macro')\n",
        "grid_search.fit(X_train, y_train)"
      ],
      "execution_count": 7,
      "outputs": [
        {
          "output_type": "stream",
          "text": [
            "Fitting 5 folds for each of 1560 candidates, totalling 7800 fits\n"
          ],
          "name": "stdout"
        },
        {
          "output_type": "stream",
          "text": [
            "[Parallel(n_jobs=1)]: Using backend SequentialBackend with 1 concurrent workers.\n",
            "[Parallel(n_jobs=1)]: Done 7800 out of 7800 | elapsed: 144.1min finished\n"
          ],
          "name": "stderr"
        },
        {
          "output_type": "stream",
          "text": [
            "CPU times: user 2h 23min 44s, sys: 18.3 s, total: 2h 24min 2s\n",
            "Wall time: 2h 24min 10s\n"
          ],
          "name": "stdout"
        }
      ]
    },
    {
      "cell_type": "code",
      "metadata": {
        "id": "C7KQ2E1Qi8iK",
        "colab_type": "code",
        "colab": {
          "base_uri": "https://localhost:8080/",
          "height": 85
        },
        "outputId": "678948ad-7f96-45cb-8e57-33877e038829"
      },
      "source": [
        "grid_search.best_params_"
      ],
      "execution_count": 8,
      "outputs": [
        {
          "output_type": "execute_result",
          "data": {
            "text/plain": [
              "{'max_depth': 40,\n",
              " 'max_features': 'auto',\n",
              " 'min_samples_split': 2,\n",
              " 'n_estimators': 140}"
            ]
          },
          "metadata": {
            "tags": []
          },
          "execution_count": 8
        }
      ]
    },
    {
      "cell_type": "code",
      "metadata": {
        "id": "mLwZNcAai8iM",
        "colab_type": "code",
        "colab": {
          "base_uri": "https://localhost:8080/",
          "height": 255
        },
        "outputId": "494df71c-c54d-45ee-b64f-2a35f6e40fdf"
      },
      "source": [
        "clf = RandomForestClassifier(**grid_search.best_params_, random_state=42)\n",
        "\n",
        "clf.fit(X_train, y_train)\n",
        "\n",
        "y_pred = clf.predict(X_test)\n",
        "\n",
        "print(classification_report(y_test, y_pred, digits=4))"
      ],
      "execution_count": 9,
      "outputs": [
        {
          "output_type": "stream",
          "text": [
            "              precision    recall  f1-score   support\n",
            "\n",
            "           1     0.7500    0.7829    0.7661       410\n",
            "           2     0.7990    0.8354    0.8168       571\n",
            "           3     0.7176    0.8472    0.7771        72\n",
            "           4     0.5000    0.2500    0.3333         8\n",
            "           5     1.0000    0.0800    0.1481        25\n",
            "           6     0.7500    0.3947    0.5172        38\n",
            "           7     0.7692    0.5263    0.6250        38\n",
            "\n",
            "    accuracy                         0.7728      1162\n",
            "   macro avg     0.7551    0.5309    0.5691      1162\n",
            "weighted avg     0.7764    0.7728    0.7627      1162\n",
            "\n"
          ],
          "name": "stdout"
        }
      ]
    },
    {
      "cell_type": "markdown",
      "metadata": {
        "id": "4wHxX6jQi8iP",
        "colab_type": "text"
      },
      "source": [
        "### NatureInspiredSearch"
      ]
    },
    {
      "cell_type": "code",
      "metadata": {
        "id": "cY5DZ5a0i8iQ",
        "colab_type": "code",
        "colab": {}
      },
      "source": [
        "from sklearn_nature_inspired_algorithms.model_selection.nature_inspired_search_cv import NatureInspiredSearchCV"
      ],
      "execution_count": 15,
      "outputs": []
    },
    {
      "cell_type": "code",
      "metadata": {
        "id": "H-rGS_aNi8iS",
        "colab_type": "code",
        "colab": {
          "base_uri": "https://localhost:8080/",
          "height": 68
        },
        "outputId": "562ad90f-1fc1-468d-dc5f-4ee266fed776"
      },
      "source": [
        "%%time\n",
        "\n",
        "clf = RandomForestClassifier(random_state=42)\n",
        "\n",
        "nia_search = NatureInspiredSearchCV(\n",
        "    clf,\n",
        "    param_grid,\n",
        "    cv=5,\n",
        "    verbose=0,\n",
        "    algorithm='ba',\n",
        "    population_size=25,\n",
        "    max_n_gen=100,\n",
        "    max_stagnating_gen=10,    \n",
        "    runs=5,\n",
        "    scoring='f1_macro',\n",
        "    random_state=42,\n",
        "  )\n",
        "\n",
        "nia_search.fit(X_train, y_train)"
      ],
      "execution_count": 16,
      "outputs": [
        {
          "output_type": "stream",
          "text": [
            "Fitting 5 folds for some of the 1560 candidates, which might total in 7800 fits\n",
            "CPU times: user 31min 58s, sys: 3.9 s, total: 32min 2s\n",
            "Wall time: 32min 4s\n"
          ],
          "name": "stdout"
        }
      ]
    },
    {
      "cell_type": "code",
      "metadata": {
        "id": "PV0zu12CvnNA",
        "colab_type": "code",
        "colab": {
          "base_uri": "https://localhost:8080/",
          "height": 296
        },
        "outputId": "5f4b6829-9c56-4034-ddca-b826c7820f88"
      },
      "source": [
        "from sklearn_nature_inspired_algorithms.helpers import score_by_generation_lineplot\n",
        "\n",
        "score_by_generation_lineplot(nia_search)"
      ],
      "execution_count": 17,
      "outputs": [
        {
          "output_type": "execute_result",
          "data": {
            "text/plain": [
              "<matplotlib.axes._subplots.AxesSubplot at 0x7fa276c200b8>"
            ]
          },
          "metadata": {
            "tags": []
          },
          "execution_count": 17
        },
        {
          "output_type": "display_data",
          "data": {
            "image/png": "[encoded data removed]",
            "text/plain": [
              "<Figure size 432x288 with 1 Axes>"
            ]
          },
          "metadata": {
            "tags": [],
            "needs_background": "light"
          }
        }
      ]
    },
    {
      "cell_type": "code",
      "metadata": {
        "id": "WVg8iArSi8iV",
        "colab_type": "code",
        "colab": {
          "base_uri": "https://localhost:8080/",
          "height": 85
        },
        "outputId": "339d5340-fcba-442e-c9a5-73773a0fde0f"
      },
      "source": [
        "nia_search.best_params_"
      ],
      "execution_count": 18,
      "outputs": [
        {
          "output_type": "execute_result",
          "data": {
            "text/plain": [
              "{'max_depth': 40,\n",
              " 'max_features': 'sqrt',\n",
              " 'min_samples_split': 2,\n",
              " 'n_estimators': 140}"
            ]
          },
          "metadata": {
            "tags": []
          },
          "execution_count": 18
        }
      ]
    },
    {
      "cell_type": "code",
      "metadata": {
        "id": "UIPTk-Mwi8iX",
        "colab_type": "code",
        "colab": {
          "base_uri": "https://localhost:8080/",
          "height": 255
        },
        "outputId": "7ce3018e-b2dd-47e0-b4da-8f11daa14871"
      },
      "source": [
        "clf = RandomForestClassifier(**nia_search.best_params_, random_state=42)\n",
        "\n",
        "clf.fit(X_train, y_train)\n",
        "\n",
        "y_pred = clf.predict(X_test)\n",
        "\n",
        "print(classification_report(y_test, y_pred, digits=4))"
      ],
      "execution_count": 19,
      "outputs": [
        {
          "output_type": "stream",
          "text": [
            "              precision    recall  f1-score   support\n",
            "\n",
            "           1     0.7500    0.7829    0.7661       410\n",
            "           2     0.7990    0.8354    0.8168       571\n",
            "           3     0.7176    0.8472    0.7771        72\n",
            "           4     0.5000    0.2500    0.3333         8\n",
            "           5     1.0000    0.0800    0.1481        25\n",
            "           6     0.7500    0.3947    0.5172        38\n",
            "           7     0.7692    0.5263    0.6250        38\n",
            "\n",
            "    accuracy                         0.7728      1162\n",
            "   macro avg     0.7551    0.5309    0.5691      1162\n",
            "weighted avg     0.7764    0.7728    0.7627      1162\n",
            "\n"
          ],
          "name": "stdout"
        }
      ]
    },
    {
      "cell_type": "markdown",
      "metadata": {
        "id": "Hx_C1P6lnIOB",
        "colab_type": "text"
      },
      "source": [
        "## Conclusion\n",
        "\n",
        "As we can see, the neature inspired search found the exectly same solution as the grid search in the shorter amount of time. If we decreased the number of runs for the nature inspired search, or decreased the population size, the duration might be shorter. However we might not find the most optimal solution in that case.\n",
        "\n",
        "| Algorithm | F1 Macro score  | Search duration |\n",
        "| ------------ |-------------:|-------------:|\n",
        "| GridSearchCV | 0.5691 | 2h 23min 44s |\n",
        "| NatureInspiredSearchCV | 0.5691 | 31min 58s |\n"
      ]
    }
  ]
}
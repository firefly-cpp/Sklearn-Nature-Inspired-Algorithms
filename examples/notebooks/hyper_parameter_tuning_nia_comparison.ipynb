{
  "nbformat": 4,
  "nbformat_minor": 0,
  "metadata": {
    "kernelspec": {
      "display_name": "Python 3",
      "language": "python",
      "name": "python3"
    },
    "language_info": {
      "codemirror_mode": {
        "name": "ipython",
        "version": 3
      },
      "file_extension": ".py",
      "mimetype": "text/x-python",
      "name": "python",
      "nbconvert_exporter": "python",
      "pygments_lexer": "ipython3",
      "version": "3.7.4"
    },
    "colab": {
      "name": "Copy of hyper_parameter_tuning_nia_comparison.ipynb",
      "provenance": [],
      "collapsed_sections": []
    }
  },
  "cells": [
    {
      "cell_type": "code",
      "metadata": {
        "id": "uVFd6ndPX_0J",
        "colab_type": "code",
        "colab": {
          "base_uri": "https://localhost:8080/",
          "height": 445
        },
        "outputId": "518aa283-1769-4d7c-c5fa-d98e31adeec2"
      },
      "source": [
        "! pip install np\n",
        "! pip install sklearn\n",
        "! pip install sklearn_nature_inspired_algorithms==0.4.3"
      ],
      "execution_count": 1,
      "outputs": [
        {
          "output_type": "stream",
          "text": [
            "Requirement already satisfied: np in /usr/local/lib/python3.6/dist-packages (1.0.2)\n",
            "Requirement already satisfied: sklearn in /usr/local/lib/python3.6/dist-packages (0.0)\n",
            "Requirement already satisfied: scikit-learn in /usr/local/lib/python3.6/dist-packages (from sklearn) (0.22.2.post1)\n",
            "Requirement already satisfied: scipy>=0.17.0 in /usr/local/lib/python3.6/dist-packages (from scikit-learn->sklearn) (1.4.1)\n",
            "Requirement already satisfied: numpy>=1.11.0 in /usr/local/lib/python3.6/dist-packages (from scikit-learn->sklearn) (1.18.5)\n",
            "Requirement already satisfied: joblib>=0.11 in /usr/local/lib/python3.6/dist-packages (from scikit-learn->sklearn) (0.15.1)\n",
            "Requirement already satisfied: sklearn_nature_inspired_algorithms==0.4.3 in /usr/local/lib/python3.6/dist-packages (0.4.3)\n",
            "Requirement already satisfied: matplotlib<4.0.0,>=3.2.1 in /usr/local/lib/python3.6/dist-packages (from sklearn_nature_inspired_algorithms==0.4.3) (3.2.1)\n",
            "Requirement already satisfied: seaborn<0.11.0,>=0.10.1 in /usr/local/lib/python3.6/dist-packages (from sklearn_nature_inspired_algorithms==0.4.3) (0.10.1)\n",
            "Requirement already satisfied: pandas<2.0.0,>=1.0.3 in /usr/local/lib/python3.6/dist-packages (from sklearn_nature_inspired_algorithms==0.4.3) (1.0.4)\n",
            "Requirement already satisfied: scikit-learn<0.23.0,>=0.22.2 in /usr/local/lib/python3.6/dist-packages (from sklearn_nature_inspired_algorithms==0.4.3) (0.22.2.post1)\n",
            "Requirement already satisfied: toml<0.10,>=0.9 in /usr/local/lib/python3.6/dist-packages (from sklearn_nature_inspired_algorithms==0.4.3) (0.9.6)\n",
            "Requirement already satisfied: numpy<2.0.0,>=1.18.4 in /usr/local/lib/python3.6/dist-packages (from sklearn_nature_inspired_algorithms==0.4.3) (1.18.5)\n",
            "Requirement already satisfied: NiaPy==2.0.0rc10 in /usr/local/lib/python3.6/dist-packages (from sklearn_nature_inspired_algorithms==0.4.3) (2.0.0rc10)\n",
            "Requirement already satisfied: kiwisolver>=1.0.1 in /usr/local/lib/python3.6/dist-packages (from matplotlib<4.0.0,>=3.2.1->sklearn_nature_inspired_algorithms==0.4.3) (1.2.0)\n",
            "Requirement already satisfied: pyparsing!=2.0.4,!=2.1.2,!=2.1.6,>=2.0.1 in /usr/local/lib/python3.6/dist-packages (from matplotlib<4.0.0,>=3.2.1->sklearn_nature_inspired_algorithms==0.4.3) (2.4.7)\n",
            "Requirement already satisfied: python-dateutil>=2.1 in /usr/local/lib/python3.6/dist-packages (from matplotlib<4.0.0,>=3.2.1->sklearn_nature_inspired_algorithms==0.4.3) (2.8.1)\n",
            "Requirement already satisfied: cycler>=0.10 in /usr/local/lib/python3.6/dist-packages (from matplotlib<4.0.0,>=3.2.1->sklearn_nature_inspired_algorithms==0.4.3) (0.10.0)\n",
            "Requirement already satisfied: scipy>=1.0.1 in /usr/local/lib/python3.6/dist-packages (from seaborn<0.11.0,>=0.10.1->sklearn_nature_inspired_algorithms==0.4.3) (1.4.1)\n",
            "Requirement already satisfied: pytz>=2017.2 in /usr/local/lib/python3.6/dist-packages (from pandas<2.0.0,>=1.0.3->sklearn_nature_inspired_algorithms==0.4.3) (2018.9)\n",
            "Requirement already satisfied: joblib>=0.11 in /usr/local/lib/python3.6/dist-packages (from scikit-learn<0.23.0,>=0.22.2->sklearn_nature_inspired_algorithms==0.4.3) (0.15.1)\n",
            "Requirement already satisfied: enum34>=1.1.6 in /usr/local/lib/python3.6/dist-packages (from NiaPy==2.0.0rc10->sklearn_nature_inspired_algorithms==0.4.3) (1.1.10)\n",
            "Requirement already satisfied: xlsxwriter>=1.1.5 in /usr/local/lib/python3.6/dist-packages (from NiaPy==2.0.0rc10->sklearn_nature_inspired_algorithms==0.4.3) (1.2.9)\n",
            "Requirement already satisfied: six>=1.5 in /usr/local/lib/python3.6/dist-packages (from python-dateutil>=2.1->matplotlib<4.0.0,>=3.2.1->sklearn_nature_inspired_algorithms==0.4.3) (1.12.0)\n"
          ],
          "name": "stdout"
        }
      ]
    },
    {
      "cell_type": "code",
      "metadata": {
        "id": "iRq7N9veX67Z",
        "colab_type": "code",
        "colab": {}
      },
      "source": [
        "from sklearn.metrics import classification_report"
      ],
      "execution_count": 2,
      "outputs": []
    },
    {
      "cell_type": "markdown",
      "metadata": {
        "id": "iAIzDA0bX67c",
        "colab_type": "text"
      },
      "source": [
        "# Hyper-Parameter Tunning Using Nature Inspired Algorithms "
      ]
    },
    {
      "cell_type": "markdown",
      "metadata": {
        "id": "knd4AxpeX67c",
        "colab_type": "text"
      },
      "source": [
        "In this notebook we will compare the performance of several nature inspired search on hyper-parameter tunning task."
      ]
    },
    {
      "cell_type": "markdown",
      "metadata": {
        "id": "ztnf-m7KZDUg",
        "colab_type": "text"
      },
      "source": [
        "We will use [CoverType](https://archive.ics.uci.edu/ml/datasets/covertype) dataset which can be used for classification tasks.\n",
        "\n",
        "We will hyper-tune parameters of the RandomForestClassifier."
      ]
    },
    {
      "cell_type": "markdown",
      "metadata": {
        "id": "p5oNj0hSaP8D",
        "colab_type": "text"
      },
      "source": [
        "## Dataset\n",
        "\n",
        "Firstly, we will load the dataset, since it is really big (and we will make many experiments) we will train only on 1% of its size.\n",
        "\n"
      ]
    },
    {
      "cell_type": "code",
      "metadata": {
        "id": "_yRMWxuLX67d",
        "colab_type": "code",
        "colab": {
          "base_uri": "https://localhost:8080/",
          "height": 68
        },
        "outputId": "81970368-2388-4576-f9b1-9fa32092bccc"
      },
      "source": [
        "import random\n",
        "\n",
        "from sklearn.model_selection import train_test_split\n",
        "from sklearn.datasets import fetch_covtype\n",
        "\n",
        "X, y = fetch_covtype(download_if_missing=True, return_X_y=True)\n",
        "\n",
        "# shrink the dataset to the 1% of its original size\n",
        "rows_id = random.sample(range(0, len(X) - 1), (int)(len(X) * 0.01))\n",
        "\n",
        "X = X[rows_id, :]\n",
        "y = y[rows_id]\n",
        "\n",
        "X_train, X_test, y_train, y_test = train_test_split(X, y, test_size=0.2, random_state=42)\n",
        "\n",
        "print(f'train size - {len(X_train)}\\ntest size - {len(X_test)}')"
      ],
      "execution_count": 3,
      "outputs": [
        {
          "output_type": "stream",
          "text": [
            "Downloading https://ndownloader.figshare.com/files/5976039\n"
          ],
          "name": "stderr"
        },
        {
          "output_type": "stream",
          "text": [
            "train size - 4648\n",
            "test size - 1162\n"
          ],
          "name": "stdout"
        }
      ]
    },
    {
      "cell_type": "markdown",
      "metadata": {
        "id": "pTiifVL_X67f",
        "colab_type": "text"
      },
      "source": [
        "## Hyper-parameters\n",
        "\n",
        "Now, we will define the `param_grid` which we will be optimizing. "
      ]
    },
    {
      "cell_type": "code",
      "metadata": {
        "id": "UiHVmD2PX67g",
        "colab_type": "code",
        "colab": {}
      },
      "source": [
        "param_grid = { \n",
        "    'n_estimators': range(20, 400, 20), \n",
        "    'max_depth': range(5, 300, 20),\n",
        "    'min_samples_split': range(2, 50, 5),\n",
        "    'max_features': [\"auto\", \"sqrt\", \"log2\"],\n",
        "}"
      ],
      "execution_count": 4,
      "outputs": []
    },
    {
      "cell_type": "code",
      "metadata": {
        "id": "EOe-mgdIlMOj",
        "colab_type": "code",
        "colab": {
          "base_uri": "https://localhost:8080/",
          "height": 34
        },
        "outputId": "b2ba3de0-b311-4b0d-e38c-c797e548a6cd"
      },
      "source": [
        "import numpy as np\n",
        "\n",
        "print(f'This is {np.multiply.reduce([len(param) for param in param_grid.values()])} combinations in total.')"
      ],
      "execution_count": 5,
      "outputs": [
        {
          "output_type": "stream",
          "text": [
            "This is 8550 combinations in total.\n"
          ],
          "name": "stdout"
        }
      ]
    },
    {
      "cell_type": "markdown",
      "metadata": {
        "id": "-dgwoKDQX68v",
        "colab_type": "text"
      },
      "source": [
        "### Optimization"
      ]
    },
    {
      "cell_type": "code",
      "metadata": {
        "id": "EWF9kIikghxo",
        "colab_type": "code",
        "colab": {}
      },
      "source": [
        "from sklearn.ensemble import RandomForestClassifier"
      ],
      "execution_count": 6,
      "outputs": []
    },
    {
      "cell_type": "code",
      "metadata": {
        "id": "GSg2ett_X68v",
        "colab_type": "code",
        "colab": {
          "base_uri": "https://localhost:8080/",
          "height": 51
        },
        "outputId": "4358806b-e098-40d5-fd6a-eb1c7e17e691"
      },
      "source": [
        "from sklearn_nature_inspired_algorithms.model_selection.nature_inspired_search_cv import NatureInspiredSearchCV\n",
        "from sklearn_nature_inspired_algorithms.helpers import score_by_generation_lineplot"
      ],
      "execution_count": 7,
      "outputs": [
        {
          "output_type": "stream",
          "text": [
            "/usr/local/lib/python3.6/dist-packages/statsmodels/tools/_testing.py:19: FutureWarning: pandas.util.testing is deprecated. Use the functions in the public API at pandas.testing instead.\n",
            "  import pandas.util.testing as tm\n"
          ],
          "name": "stderr"
        }
      ]
    },
    {
      "cell_type": "markdown",
      "metadata": {
        "id": "oiB61urmbC9R",
        "colab_type": "text"
      },
      "source": [
        "Now we will optimize hyper-parameters. We will compare the following algorithms:\n",
        "\n",
        "1.   Bat algorithm\n",
        "2.   Hybrid bat algorithm\n",
        "3.   Firefly algorithm\n",
        "4.   Wolf Grey Optimizer\n",
        "\n",
        "All of our optimization runs, will use the following settings:\n",
        "\n",
        "*   `cv=5` - 5 fold cross-validation\n",
        "*   `max_n_gen=100` - we will optimize at max 100 generations\n",
        "*   `max_stagnating_gen=5` - the search algorithm will stop, if it does not find a better solution for 10 generations\n",
        "*   `population_size=50` - in each generation we will train (at max) 50 models, since we are searching a pretty large space, we need to have more models in one population \n",
        "*   `runs=3` - each algorithm will run 3 times\n",
        "\n",
        "\n",
        "\n"
      ]
    },
    {
      "cell_type": "markdown",
      "metadata": {
        "id": "uYPjHAq-bTAX",
        "colab_type": "text"
      },
      "source": [
        "### Bat Algorithm"
      ]
    },
    {
      "cell_type": "code",
      "metadata": {
        "id": "fHaK7n49X69g",
        "colab_type": "code",
        "colab": {
          "base_uri": "https://localhost:8080/",
          "height": 68
        },
        "outputId": "4464a87d-dce2-4c0f-f0bb-117d342730a0"
      },
      "source": [
        "%%time\n",
        "\n",
        "clf = RandomForestClassifier(random_state=42)\n",
        "\n",
        "nia_search = NatureInspiredSearchCV(\n",
        "    clf,\n",
        "    param_grid,\n",
        "    cv=5,\n",
        "    verbose=0,\n",
        "    algorithm='ba',\n",
        "    population_size=50,\n",
        "    max_n_gen=100,\n",
        "    max_stagnating_gen=5,\n",
        "    runs=5,\n",
        "    n_jobs=-1,\n",
        "    scoring='f1_macro',\n",
        "    random_state=42)\n",
        "\n",
        "nia_search.fit(X_train, y_train)"
      ],
      "execution_count": 8,
      "outputs": [
        {
          "output_type": "stream",
          "text": [
            "Fitting 5 folds for some of the 8550 candidates, which might total in 42750 fits\n",
            "CPU times: user 14 s, sys: 559 ms, total: 14.6 s\n",
            "Wall time: 44min 5s\n"
          ],
          "name": "stdout"
        }
      ]
    },
    {
      "cell_type": "code",
      "metadata": {
        "id": "1VTiD3A_dEqP",
        "colab_type": "code",
        "colab": {
          "base_uri": "https://localhost:8080/",
          "height": 296
        },
        "outputId": "e36f05eb-9e41-4c68-c4fb-c9b04a6e8c6a"
      },
      "source": [
        "score_by_generation_lineplot(nia_search)"
      ],
      "execution_count": 9,
      "outputs": [
        {
          "output_type": "execute_result",
          "data": {
            "text/plain": [
              "<matplotlib.axes._subplots.AxesSubplot at 0x7fabffec09e8>"
            ]
          },
          "metadata": {
            "tags": []
          },
          "execution_count": 9
        },
        {
          "output_type": "display_data",
          "data": {
            "image/png": "[encoded data removed]",
            "text/plain": [
              "<Figure size 432x288 with 1 Axes>"
            ]
          },
          "metadata": {
            "tags": [],
            "needs_background": "light"
          }
        }
      ]
    },
    {
      "cell_type": "code",
      "metadata": {
        "id": "g9qTA5QzX69l",
        "colab_type": "code",
        "colab": {
          "base_uri": "https://localhost:8080/",
          "height": 85
        },
        "outputId": "171692fe-668f-46c5-bc33-a0c813b5722f"
      },
      "source": [
        "nia_search.best_params_"
      ],
      "execution_count": 10,
      "outputs": [
        {
          "output_type": "execute_result",
          "data": {
            "text/plain": [
              "{'max_depth': 205,\n",
              " 'max_features': 'log2',\n",
              " 'min_samples_split': 2,\n",
              " 'n_estimators': 240}"
            ]
          },
          "metadata": {
            "tags": []
          },
          "execution_count": 10
        }
      ]
    },
    {
      "cell_type": "code",
      "metadata": {
        "id": "akeXCPiGX69q",
        "colab_type": "code",
        "colab": {
          "base_uri": "https://localhost:8080/",
          "height": 255
        },
        "outputId": "bf97c4fc-ad82-4a81-a68a-75fc03b2fca2"
      },
      "source": [
        "clf = RandomForestClassifier(**nia_search.best_params_, random_state=42)\n",
        "\n",
        "clf.fit(X_train, y_train)\n",
        "\n",
        "y_pred = clf.predict(X_test)\n",
        "\n",
        "print(classification_report(y_test, y_pred, digits=4))"
      ],
      "execution_count": 11,
      "outputs": [
        {
          "output_type": "stream",
          "text": [
            "              precision    recall  f1-score   support\n",
            "\n",
            "           1     0.7530    0.7440    0.7485       418\n",
            "           2     0.7613    0.8460    0.8014       539\n",
            "           3     0.7558    0.8125    0.7831        80\n",
            "           4     1.0000    0.6000    0.7500         5\n",
            "           5     0.5000    0.1053    0.1739        19\n",
            "           6     0.7500    0.4390    0.5538        41\n",
            "           7     1.0000    0.5500    0.7097        60\n",
            "\n",
            "    accuracy                         0.7642      1162\n",
            "   macro avg     0.7886    0.5853    0.6458      1162\n",
            "weighted avg     0.7666    0.7642    0.7572      1162\n",
            "\n"
          ],
          "name": "stdout"
        }
      ]
    },
    {
      "cell_type": "markdown",
      "metadata": {
        "id": "daB-cBiddcXj",
        "colab_type": "text"
      },
      "source": [
        "### Hybrid Bat algorithm"
      ]
    },
    {
      "cell_type": "code",
      "metadata": {
        "id": "JyuJrP_QdX4P",
        "colab_type": "code",
        "colab": {
          "base_uri": "https://localhost:8080/",
          "height": 68
        },
        "outputId": "f28d1fc3-6ed8-4ad6-ce60-85cba0a6729e"
      },
      "source": [
        "%%time\n",
        "\n",
        "clf = RandomForestClassifier(random_state=42)\n",
        "\n",
        "nia_search = NatureInspiredSearchCV(\n",
        "    clf,\n",
        "    param_grid,\n",
        "    cv=5,\n",
        "    verbose=0,\n",
        "    algorithm='hba',\n",
        "    population_size=50,\n",
        "    max_n_gen=100,\n",
        "    max_stagnating_gen=5,\n",
        "    runs=5,\n",
        "    n_jobs=-1,\n",
        "    scoring='f1_macro',\n",
        "    random_state=42)\n",
        "\n",
        "nia_search.fit(X_train, y_train)"
      ],
      "execution_count": 12,
      "outputs": [
        {
          "output_type": "stream",
          "text": [
            "Fitting 5 folds for some of the 8550 candidates, which might total in 42750 fits\n",
            "CPU times: user 34.2 s, sys: 1.04 s, total: 35.2 s\n",
            "Wall time: 2h 1min 26s\n"
          ],
          "name": "stdout"
        }
      ]
    },
    {
      "cell_type": "code",
      "metadata": {
        "id": "VDIHMSdyd27r",
        "colab_type": "code",
        "colab": {
          "base_uri": "https://localhost:8080/",
          "height": 296
        },
        "outputId": "0b1c6c07-af2e-4301-8f48-e54648774b43"
      },
      "source": [
        "score_by_generation_lineplot(nia_search)"
      ],
      "execution_count": 13,
      "outputs": [
        {
          "output_type": "execute_result",
          "data": {
            "text/plain": [
              "<matplotlib.axes._subplots.AxesSubplot at 0x7fabf5c7dd30>"
            ]
          },
          "metadata": {
            "tags": []
          },
          "execution_count": 13
        },
        {
          "output_type": "display_data",
          "data": {
            "image/png": "[encoded data removed]",
            "text/plain": [
              "<Figure size 432x288 with 1 Axes>"
            ]
          },
          "metadata": {
            "tags": [],
            "needs_background": "light"
          }
        }
      ]
    },
    {
      "cell_type": "code",
      "metadata": {
        "id": "62NeHFefd4wg",
        "colab_type": "code",
        "colab": {
          "base_uri": "https://localhost:8080/",
          "height": 85
        },
        "outputId": "9af43ea3-7291-4346-dddc-666c530de86a"
      },
      "source": [
        "nia_search.best_params_"
      ],
      "execution_count": 14,
      "outputs": [
        {
          "output_type": "execute_result",
          "data": {
            "text/plain": [
              "{'max_depth': 25,\n",
              " 'max_features': 'sqrt',\n",
              " 'min_samples_split': 2,\n",
              " 'n_estimators': 360}"
            ]
          },
          "metadata": {
            "tags": []
          },
          "execution_count": 14
        }
      ]
    },
    {
      "cell_type": "code",
      "metadata": {
        "id": "utHhS5fVd6lf",
        "colab_type": "code",
        "colab": {
          "base_uri": "https://localhost:8080/",
          "height": 255
        },
        "outputId": "22bc04a1-b1e7-4e8a-8b41-d9ec3e4c08d5"
      },
      "source": [
        "clf = RandomForestClassifier(**nia_search.best_params_, random_state=42)\n",
        "\n",
        "clf.fit(X_train, y_train)\n",
        "\n",
        "y_pred = clf.predict(X_test)\n",
        "\n",
        "print(classification_report(y_test, y_pred, digits=4))"
      ],
      "execution_count": 15,
      "outputs": [
        {
          "output_type": "stream",
          "text": [
            "              precision    recall  f1-score   support\n",
            "\n",
            "           1     0.7580    0.7344    0.7461       418\n",
            "           2     0.7587    0.8516    0.8024       539\n",
            "           3     0.7701    0.8375    0.8024        80\n",
            "           4     1.0000    0.6000    0.7500         5\n",
            "           5     0.5000    0.1053    0.1739        19\n",
            "           6     0.7391    0.4146    0.5312        41\n",
            "           7     1.0000    0.5833    0.7368        60\n",
            "\n",
            "    accuracy                         0.7659      1162\n",
            "   macro avg     0.7894    0.5895    0.6490      1162\n",
            "weighted avg     0.7678    0.7659    0.7587      1162\n",
            "\n"
          ],
          "name": "stdout"
        }
      ]
    },
    {
      "cell_type": "markdown",
      "metadata": {
        "id": "_XN0SEtwdd7G",
        "colab_type": "text"
      },
      "source": [
        "### Firefly Algorithm"
      ]
    },
    {
      "cell_type": "code",
      "metadata": {
        "id": "bIp--WxhdYc7",
        "colab_type": "code",
        "colab": {
          "base_uri": "https://localhost:8080/",
          "height": 68
        },
        "outputId": "ae86d3ff-2b20-4583-ccf4-b19f271a0c07"
      },
      "source": [
        "%%time\n",
        "\n",
        "clf = RandomForestClassifier(random_state=42)\n",
        "\n",
        "nia_search = NatureInspiredSearchCV(\n",
        "    clf,\n",
        "    param_grid,\n",
        "    cv=5,\n",
        "    verbose=0,\n",
        "    algorithm='fa',\n",
        "    population_size=50,\n",
        "    max_n_gen=100,\n",
        "    max_stagnating_gen=5,\n",
        "    runs=5,\n",
        "    n_jobs=-1,\n",
        "    scoring='f1_macro',\n",
        "    random_state=42)\n",
        "\n",
        "nia_search.fit(X_train, y_train)"
      ],
      "execution_count": 16,
      "outputs": [
        {
          "output_type": "stream",
          "text": [
            "Fitting 5 folds for some of the 8550 candidates, which might total in 42750 fits\n",
            "CPU times: user 57.7 s, sys: 1.68 s, total: 59.4 s\n",
            "Wall time: 2h 36min 18s\n"
          ],
          "name": "stdout"
        }
      ]
    },
    {
      "cell_type": "code",
      "metadata": {
        "id": "zPjk02xRd9yW",
        "colab_type": "code",
        "colab": {
          "base_uri": "https://localhost:8080/",
          "height": 296
        },
        "outputId": "c7f83f2e-384c-4d15-ab36-b1711a06fa20"
      },
      "source": [
        "score_by_generation_lineplot(nia_search)"
      ],
      "execution_count": 17,
      "outputs": [
        {
          "output_type": "execute_result",
          "data": {
            "text/plain": [
              "<matplotlib.axes._subplots.AxesSubplot at 0x7fabf41a3dd8>"
            ]
          },
          "metadata": {
            "tags": []
          },
          "execution_count": 17
        },
        {
          "output_type": "display_data",
          "data": {
            "image/png": "[encoded data removed]",
            "text/plain": [
              "<Figure size 432x288 with 1 Axes>"
            ]
          },
          "metadata": {
            "tags": [],
            "needs_background": "light"
          }
        }
      ]
    },
    {
      "cell_type": "code",
      "metadata": {
        "id": "xx2WKd2jd_CS",
        "colab_type": "code",
        "colab": {
          "base_uri": "https://localhost:8080/",
          "height": 85
        },
        "outputId": "c1fb5323-b2e9-47dd-f473-8c2e022f25ef"
      },
      "source": [
        "nia_search.best_params_"
      ],
      "execution_count": 18,
      "outputs": [
        {
          "output_type": "execute_result",
          "data": {
            "text/plain": [
              "{'max_depth': 45,\n",
              " 'max_features': 'log2',\n",
              " 'min_samples_split': 2,\n",
              " 'n_estimators': 280}"
            ]
          },
          "metadata": {
            "tags": []
          },
          "execution_count": 18
        }
      ]
    },
    {
      "cell_type": "code",
      "metadata": {
        "id": "zqGgxwGjeAYY",
        "colab_type": "code",
        "colab": {
          "base_uri": "https://localhost:8080/",
          "height": 255
        },
        "outputId": "36e32d20-7979-4e11-e736-a220e2975ad3"
      },
      "source": [
        "clf = RandomForestClassifier(**nia_search.best_params_, random_state=42)\n",
        "\n",
        "clf.fit(X_train, y_train)\n",
        "\n",
        "y_pred = clf.predict(X_test)\n",
        "\n",
        "print(classification_report(y_test, y_pred, digits=4))"
      ],
      "execution_count": 19,
      "outputs": [
        {
          "output_type": "stream",
          "text": [
            "              precision    recall  f1-score   support\n",
            "\n",
            "           1     0.7543    0.7416    0.7479       418\n",
            "           2     0.7633    0.8497    0.8042       539\n",
            "           3     0.7701    0.8375    0.8024        80\n",
            "           4     1.0000    0.6000    0.7500         5\n",
            "           5     0.5000    0.1053    0.1739        19\n",
            "           6     0.7500    0.4390    0.5538        41\n",
            "           7     1.0000    0.5500    0.7097        60\n",
            "\n",
            "    accuracy                         0.7668      1162\n",
            "   macro avg     0.7911    0.5890    0.6488      1162\n",
            "weighted avg     0.7690    0.7668    0.7596      1162\n",
            "\n"
          ],
          "name": "stdout"
        }
      ]
    },
    {
      "cell_type": "markdown",
      "metadata": {
        "id": "RYuc1gE8hpS7",
        "colab_type": "text"
      },
      "source": [
        "### Grey Wolf Optimizer"
      ]
    },
    {
      "cell_type": "code",
      "metadata": {
        "id": "9n5sKZVWhw9q",
        "colab_type": "code",
        "colab": {
          "base_uri": "https://localhost:8080/",
          "height": 68
        },
        "outputId": "c9810d21-9840-47f2-e20e-1e38a4861c90"
      },
      "source": [
        "\n",
        "%%time\n",
        "\n",
        "clf = RandomForestClassifier(random_state=42)\n",
        "\n",
        "nia_search = NatureInspiredSearchCV(\n",
        "    clf,\n",
        "    param_grid,\n",
        "    cv=5,\n",
        "    verbose=0,\n",
        "    algorithm='gwo',\n",
        "    population_size=50,\n",
        "    max_n_gen=100,\n",
        "    max_stagnating_gen=5,\n",
        "    runs=5,\n",
        "    n_jobs=-1,\n",
        "    scoring='f1_macro',\n",
        "    random_state=42)\n",
        "\n",
        "nia_search.fit(X_train, y_train)"
      ],
      "execution_count": 20,
      "outputs": [
        {
          "output_type": "stream",
          "text": [
            "Fitting 5 folds for some of the 8550 candidates, which might total in 42750 fits\n",
            "CPU times: user 34.4 s, sys: 1.06 s, total: 35.5 s\n",
            "Wall time: 2h 39s\n"
          ],
          "name": "stdout"
        }
      ]
    },
    {
      "cell_type": "code",
      "metadata": {
        "id": "bQicbsAsh1Z2",
        "colab_type": "code",
        "colab": {
          "base_uri": "https://localhost:8080/",
          "height": 296
        },
        "outputId": "67754f17-5bb6-466e-9ec4-4785975ebe2c"
      },
      "source": [
        "score_by_generation_lineplot(nia_search)"
      ],
      "execution_count": 21,
      "outputs": [
        {
          "output_type": "execute_result",
          "data": {
            "text/plain": [
              "<matplotlib.axes._subplots.AxesSubplot at 0x7fac38683c50>"
            ]
          },
          "metadata": {
            "tags": []
          },
          "execution_count": 21
        },
        {
          "output_type": "display_data",
          "data": {
            "image/png": "[encoded data removed]",
            "text/plain": [
              "<Figure size 432x288 with 1 Axes>"
            ]
          },
          "metadata": {
            "tags": [],
            "needs_background": "light"
          }
        }
      ]
    },
    {
      "cell_type": "code",
      "metadata": {
        "id": "0IBNaPm_h4_8",
        "colab_type": "code",
        "colab": {
          "base_uri": "https://localhost:8080/",
          "height": 85
        },
        "outputId": "bba4315b-6103-47bb-ef72-7b9676399e74"
      },
      "source": [
        "nia_search.best_params_"
      ],
      "execution_count": 22,
      "outputs": [
        {
          "output_type": "execute_result",
          "data": {
            "text/plain": [
              "{'max_depth': 25,\n",
              " 'max_features': 'sqrt',\n",
              " 'min_samples_split': 2,\n",
              " 'n_estimators': 360}"
            ]
          },
          "metadata": {
            "tags": []
          },
          "execution_count": 22
        }
      ]
    },
    {
      "cell_type": "code",
      "metadata": {
        "id": "IylZcXiCh7LC",
        "colab_type": "code",
        "colab": {
          "base_uri": "https://localhost:8080/",
          "height": 255
        },
        "outputId": "66be6abb-9f01-4086-9b87-df69937147de"
      },
      "source": [
        "clf = RandomForestClassifier(**nia_search.best_params_, random_state=42)\n",
        "\n",
        "clf.fit(X_train, y_train)\n",
        "\n",
        "y_pred = clf.predict(X_test)\n",
        "\n",
        "print(classification_report(y_test, y_pred, digits=4))"
      ],
      "execution_count": 23,
      "outputs": [
        {
          "output_type": "stream",
          "text": [
            "              precision    recall  f1-score   support\n",
            "\n",
            "           1     0.7580    0.7344    0.7461       418\n",
            "           2     0.7587    0.8516    0.8024       539\n",
            "           3     0.7701    0.8375    0.8024        80\n",
            "           4     1.0000    0.6000    0.7500         5\n",
            "           5     0.5000    0.1053    0.1739        19\n",
            "           6     0.7391    0.4146    0.5312        41\n",
            "           7     1.0000    0.5833    0.7368        60\n",
            "\n",
            "    accuracy                         0.7659      1162\n",
            "   macro avg     0.7894    0.5895    0.6490      1162\n",
            "weighted avg     0.7678    0.7659    0.7587      1162\n",
            "\n"
          ],
          "name": "stdout"
        }
      ]
    },
    {
      "cell_type": "markdown",
      "metadata": {
        "id": "YzOzZAhBey-T",
        "colab_type": "text"
      },
      "source": [
        "## Results\n",
        "\n",
        "| Algorithm | F1 Macro score  | Search duration |\n",
        "| ------------ |-------------:|-------------:|\n",
        "| Bat Algorithm | 0.6458 | 44min 5s |\n",
        "| Hybrid Bat Algorithm | 0.6490 | 2h 1min 26s |\n",
        "| Firefly Algorithm | 0.6488 | 2h 36min 18s |\n",
        "| Grey Wolf Optimizer | 0.6490 | 2h 39s  |\n"
      ]
    }
  ]
}